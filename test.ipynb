{
 "cells": [
  {
   "cell_type": "code",
   "execution_count": 18,
   "metadata": {},
   "outputs": [
    {
     "name": "stdout",
     "output_type": "stream",
     "text": [
      "Bot says,  [{'recipient_id': 'default', 'text': 'Hey! How are you?'}]\n",
      "Hey! How are you?\n"
     ]
    }
   ],
   "source": [
    "# write a python function to send message to rasa nlu\n",
    "#\n",
    "import requests\n",
    "import json\n",
    "  \n",
    "def send_message(message):\n",
    "    url = 'http://localhost:5005/webhooks/rest/webhook'\n",
    "    r = requests.post(url, json={\"message\": message})\n",
    "    print(\"Bot says, \",end=' ')\n",
    "    print(r.json())\n",
    "    for i in r.json():\n",
    "        print(i['text'])\n",
    "\n",
    "send_message(\"I want to buy a house in London\")"
   ]
  },
  {
   "cell_type": "code",
   "execution_count": 21,
   "metadata": {},
   "outputs": [],
   "source": [
    "# define a python function to call rasa chatbot to print confidence of intent \n",
    "\n",
    "def get_intent_confidence(message):\n",
    "    url = 'http://localhost:5005/model/parse'\n",
    "    r = requests.post(url, json={\"text\": message})\n",
    "    print(\"Confidence of intent is \",end=' ')\n",
    "    print(r.json())"
   ]
  },
  {
   "cell_type": "code",
   "execution_count": 22,
   "metadata": {},
   "outputs": [
    {
     "name": "stdout",
     "output_type": "stream",
     "text": [
      "Confidence of intent is  {'description': 'Not Found', 'status': 404, 'message': 'Requested URL /model/parse not found'}\n"
     ]
    }
   ],
   "source": [
    "get_intent_confidence('I want to buy a house in London')"
   ]
  },
  {
   "cell_type": "code",
   "execution_count": null,
   "metadata": {},
   "outputs": [],
   "source": []
  },
  {
   "cell_type": "code",
   "execution_count": null,
   "metadata": {},
   "outputs": [],
   "source": []
  },
  {
   "cell_type": "code",
   "execution_count": null,
   "metadata": {},
   "outputs": [],
   "source": []
  },
  {
   "cell_type": "code",
   "execution_count": 1,
   "metadata": {},
   "outputs": [],
   "source": [
    "import requests\n",
    "import json\n",
    "\n",
    "# Define the webhook URL\n",
    "webhook_url = 'http://localhost:5005/webhooks/rest/webhook'\n",
    "\n",
    "def send_msg(msg: str):\n",
    "    # Define the payload for the webhook request\n",
    "    payload = {\n",
    "        \"sender\": \"user\",\n",
    "        \"message\": msg\n",
    "    }\n",
    "\n",
    "    # Send the request to the webhook URL\n",
    "    response = requests.post(webhook_url, json=payload)\n",
    "\n",
    "    # Print the response from the webhook\n",
    "    print(response.json())\n"
   ]
  },
  {
   "cell_type": "code",
   "execution_count": 2,
   "metadata": {},
   "outputs": [
    {
     "name": "stdout",
     "output_type": "stream",
     "text": [
      "[{'recipient_id': 'user', 'text': 'Hey! How are you?'}]\n"
     ]
    }
   ],
   "source": [
    "# Define the message you want to send to the webhook\n",
    "message = \"Hello, how can I help you today?\"\n",
    "send_msg(message)"
   ]
  },
  {
   "cell_type": "code",
   "execution_count": 3,
   "metadata": {},
   "outputs": [
    {
     "name": "stdout",
     "output_type": "stream",
     "text": [
      "[{'recipient_id': 'user', 'text': 'Hey! How are you?'}]\n"
     ]
    }
   ],
   "source": [
    "# Define the message you want to send to the webhook\n",
    "message = \"Looking for rent\"\n",
    "send_msg(message)"
   ]
  },
  {
   "cell_type": "code",
   "execution_count": 15,
   "metadata": {},
   "outputs": [
    {
     "name": "stdout",
     "output_type": "stream",
     "text": [
      "<rasa.utils.endpoints.EndpointConfig object at 0x17e51dfa0>\n"
     ]
    },
    {
     "ename": "NameError",
     "evalue": "name 'Interpreter' is not defined",
     "output_type": "error",
     "traceback": [
      "\u001b[0;31m---------------------------------------------------------------------------\u001b[0m",
      "\u001b[0;31mNameError\u001b[0m                                 Traceback (most recent call last)",
      "\u001b[1;32m/Users/sunilthapa/Desktop/AIMT/AML 2304/assignment-2/test.ipynb Cell 4\u001b[0m in \u001b[0;36m1\n\u001b[1;32m     <a href='vscode-notebook-cell:/Users/sunilthapa/Desktop/AIMT/AML%202304/assignment-2/test.ipynb#W4sZmlsZQ%3D%3D?line=15'>16</a>\u001b[0m model_directory \u001b[39m=\u001b[39m get_latest_model(\u001b[39m\"\u001b[39m\u001b[39m./models\u001b[39m\u001b[39m\"\u001b[39m)\n\u001b[1;32m     <a href='vscode-notebook-cell:/Users/sunilthapa/Desktop/AIMT/AML%202304/assignment-2/test.ipynb#W4sZmlsZQ%3D%3D?line=17'>18</a>\u001b[0m \u001b[39m# Load the NLU interpreter\u001b[39;00m\n\u001b[0;32m---> <a href='vscode-notebook-cell:/Users/sunilthapa/Desktop/AIMT/AML%202304/assignment-2/test.ipynb#W4sZmlsZQ%3D%3D?line=18'>19</a>\u001b[0m interpreter \u001b[39m=\u001b[39m Interpreter\u001b[39m.\u001b[39mload(\n\u001b[1;32m     <a href='vscode-notebook-cell:/Users/sunilthapa/Desktop/AIMT/AML%202304/assignment-2/test.ipynb#W4sZmlsZQ%3D%3D?line=19'>20</a>\u001b[0m     \u001b[39m# Get the path to the NLU model directory\u001b[39;00m\n\u001b[1;32m     <a href='vscode-notebook-cell:/Users/sunilthapa/Desktop/AIMT/AML%202304/assignment-2/test.ipynb#W4sZmlsZQ%3D%3D?line=20'>21</a>\u001b[0m     os\u001b[39m.\u001b[39mpath\u001b[39m.\u001b[39mjoin(model_directory, \u001b[39m\"\u001b[39m\u001b[39mnlu\u001b[39m\u001b[39m\"\u001b[39m)\n\u001b[1;32m     <a href='vscode-notebook-cell:/Users/sunilthapa/Desktop/AIMT/AML%202304/assignment-2/test.ipynb#W4sZmlsZQ%3D%3D?line=21'>22</a>\u001b[0m )\n\u001b[1;32m     <a href='vscode-notebook-cell:/Users/sunilthapa/Desktop/AIMT/AML%202304/assignment-2/test.ipynb#W4sZmlsZQ%3D%3D?line=23'>24</a>\u001b[0m \u001b[39m# Set up the Rasa agent\u001b[39;00m\n\u001b[1;32m     <a href='vscode-notebook-cell:/Users/sunilthapa/Desktop/AIMT/AML%202304/assignment-2/test.ipynb#W4sZmlsZQ%3D%3D?line=24'>25</a>\u001b[0m agent \u001b[39m=\u001b[39m Agent\u001b[39m.\u001b[39mload(\u001b[39m\"\u001b[39m\u001b[39mpath/to/core/model\u001b[39m\u001b[39m\"\u001b[39m, interpreter\u001b[39m=\u001b[39minterpreter)\n",
      "\u001b[0;31mNameError\u001b[0m: name 'Interpreter' is not defined"
     ]
    }
   ],
   "source": []
  },
  {
   "cell_type": "code",
   "execution_count": 11,
   "metadata": {},
   "outputs": [
    {
     "name": "stdout",
     "output_type": "stream",
     "text": [
      "rasa==3.4.5\n",
      "rasa-sdk==3.4.1\n"
     ]
    }
   ],
   "source": [
    "!pip freeze | grep rasa"
   ]
  },
  {
   "cell_type": "code",
   "execution_count": null,
   "metadata": {},
   "outputs": [],
   "source": [
    "# view rasa shell nlu response from webhook\n",
    "# https://rasa.com/docs/rasa/user-guide/connectors/your-own-website/#viewing-the-nlu-response-from-the-webhook"
   ]
  }
 ],
 "metadata": {
  "kernelspec": {
   "display_name": "base",
   "language": "python",
   "name": "python3"
  },
  "language_info": {
   "codemirror_mode": {
    "name": "ipython",
    "version": 3
   },
   "file_extension": ".py",
   "mimetype": "text/x-python",
   "name": "python",
   "nbconvert_exporter": "python",
   "pygments_lexer": "ipython3",
   "version": "3.9.12"
  },
  "orig_nbformat": 4
 },
 "nbformat": 4,
 "nbformat_minor": 2
}
