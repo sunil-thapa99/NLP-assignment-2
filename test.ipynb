{
 "cells": [
  {
   "cell_type": "code",
   "execution_count": 55,
   "metadata": {},
   "outputs": [
    {
     "name": "stdout",
     "output_type": "stream",
     "text": [
      "Bot says,  [{'recipient_id': 'default', 'text': 'Here are some properties available in Scarborough: [Property 1], [Property 2], [Property 3]'}]\n",
      "Here are some properties available in Scarborough: [Property 1], [Property 2], [Property 3]\n"
     ]
    }
   ],
   "source": [
    "# write a python function to send message to rasa nlu\n",
    "#\n",
    "import requests\n",
    "import json\n",
    "  \n",
    "def send_message(message):\n",
    "    url = 'http://localhost:5005/webhooks/rest/webhook'\n",
    "    r = requests.post(url, json={\"message\": \"find rent in Scarborough\"}, )\n",
    "    print(\"Bot says, \",end=' ')\n",
    "    print(r.json())\n",
    "    for i in r.json():\n",
    "        print(i['text'])\n",
    "\n",
    "send_message(\"Looking for rent\")"
   ]
  },
  {
   "cell_type": "code",
   "execution_count": 43,
   "metadata": {},
   "outputs": [],
   "source": [
    "# define a python function to call rasa chatbot to print confidence of intent \n",
    "\n",
    "def get_intent_confidence(message):\n",
    "    url = 'http://localhost:5005/model/parse'\n",
    "    r = requests.post(url, json={\"text\": message})\n",
    "    print(\"Confidence of intent is \",end=' ')\n",
    "    print(r.json())"
   ]
  },
  {
   "cell_type": "code",
   "execution_count": 44,
   "metadata": {},
   "outputs": [
    {
     "name": "stdout",
     "output_type": "stream",
     "text": [
      "Confidence of intent is  {'text': 'I want to buy a house in London', 'intent': {'name': 'search_properties', 'confidence': 0.997956395149231}, 'entities': [], 'text_tokens': [[0, 1], [2, 6], [7, 9], [10, 13], [14, 15], [16, 21], [22, 24], [25, 31]], 'intent_ranking': [{'name': 'search_properties', 'confidence': 0.997956395149231}, {'name': 'parking_info', 'confidence': 0.0007261553546413779}, {'name': 'pet_policy', 'confidence': 0.0002447385631967336}, {'name': 'out_of_scope', 'confidence': 0.0002429122687317431}, {'name': 'schedule_tour', 'confidence': 0.0001762175525072962}, {'name': 'cancel_tour', 'confidence': 0.00013553889584727585}, {'name': 'affirm', 'confidence': 0.00012941317982040346}, {'name': 'deny', 'confidence': 0.00012740693637169898}, {'name': 'greet', 'confidence': 0.00011516581434989348}, {'name': 'bot_challenge', 'confidence': 5.9729121858254075e-05}], 'response_selector': {'all_retrieval_intents': [], 'default': {'response': {'responses': None, 'confidence': 0.0, 'intent_response_key': None, 'utter_action': 'utter_None'}, 'ranking': []}}}\n"
     ]
    }
   ],
   "source": [
    "get_intent_confidence('I want to buy a house in London')"
   ]
  },
  {
   "cell_type": "code",
   "execution_count": 45,
   "metadata": {},
   "outputs": [],
   "source": [
    "a = {'text': 'I want to buy a house in London', 'intent': {'name': 'search_properties', 'confidence': 0.9880897402763367}, 'entities': [], 'text_tokens': [[0, 1], [2, 6], [7, 9], [10, 13], [14, 15], [16, 21], [22, 24], [25, 31]], 'intent_ranking': [{'name': 'search_properties', 'confidence': 0.9880897402763367}, {'name': 'schedule_tour', 'confidence': 0.006617740262299776}, {'name': 'property_details', 'confidence': 0.00249043432995677}, {'name': 'cancel_tour', 'confidence': 0.0011437226785346866}, {'name': 'bot_challenge', 'confidence': 0.0007249239133670926}, {'name': 'availability_pricing', 'confidence': 0.000505753792822361}, {'name': 'mood_great', 'confidence': 0.0001289943902520463}, {'name': 'mood_unhappy', 'confidence': 0.00010068114352179691}, {'name': 'out_of_scope', 'confidence': 9.411519567947835e-05}, {'name': 'goodbye', 'confidence': 4.318661376601085e-05}], 'response_selector': {'all_retrieval_intents': [], 'default': {'response': {'responses': None, 'confidence': 0.0, 'intent_response_key': None, 'utter_action': 'utter_None'}, 'ranking': []}}}"
   ]
  },
  {
   "cell_type": "code",
   "execution_count": null,
   "metadata": {},
   "outputs": [],
   "source": []
  },
  {
   "cell_type": "code",
   "execution_count": null,
   "metadata": {},
   "outputs": [],
   "source": []
  },
  {
   "cell_type": "code",
   "execution_count": 1,
   "metadata": {},
   "outputs": [],
   "source": [
    "import requests\n",
    "import json\n",
    "\n",
    "# Define the webhook URL\n",
    "webhook_url = 'http://localhost:5005/webhooks/rest/webhook'\n",
    "\n",
    "def send_msg(msg: str):\n",
    "    # Define the payload for the webhook request\n",
    "    payload = {\n",
    "        \"sender\": \"user\",\n",
    "        \"message\": msg\n",
    "    }\n",
    "\n",
    "    # Send the request to the webhook URL\n",
    "    response = requests.post(webhook_url, json=payload)\n",
    "\n",
    "    # Print the response from the webhook\n",
    "    print(response.json())\n"
   ]
  },
  {
   "cell_type": "code",
   "execution_count": 2,
   "metadata": {},
   "outputs": [
    {
     "name": "stdout",
     "output_type": "stream",
     "text": [
      "[{'recipient_id': 'user', 'text': 'Hey! How are you?'}]\n"
     ]
    }
   ],
   "source": [
    "# Define the message you want to send to the webhook\n",
    "message = \"Hello, how can I help you today?\"\n",
    "send_msg(message)"
   ]
  },
  {
   "cell_type": "code",
   "execution_count": 3,
   "metadata": {},
   "outputs": [
    {
     "name": "stdout",
     "output_type": "stream",
     "text": [
      "[{'recipient_id': 'user', 'text': 'Hey! How are you?'}]\n"
     ]
    }
   ],
   "source": [
    "# Define the message you want to send to the webhook\n",
    "message = \"Looking for rent\"\n",
    "send_msg(message)"
   ]
  },
  {
   "cell_type": "code",
   "execution_count": null,
   "metadata": {},
   "outputs": [],
   "source": []
  },
  {
   "cell_type": "code",
   "execution_count": null,
   "metadata": {},
   "outputs": [],
   "source": []
  },
  {
   "cell_type": "code",
   "execution_count": null,
   "metadata": {},
   "outputs": [],
   "source": []
  },
  {
   "cell_type": "code",
   "execution_count": null,
   "metadata": {},
   "outputs": [],
   "source": []
  },
  {
   "cell_type": "code",
   "execution_count": null,
   "metadata": {},
   "outputs": [],
   "source": []
  },
  {
   "cell_type": "code",
   "execution_count": null,
   "metadata": {},
   "outputs": [],
   "source": []
  },
  {
   "cell_type": "code",
   "execution_count": null,
   "metadata": {},
   "outputs": [],
   "source": []
  },
  {
   "cell_type": "code",
   "execution_count": null,
   "metadata": {},
   "outputs": [],
   "source": []
  },
  {
   "cell_type": "code",
   "execution_count": null,
   "metadata": {},
   "outputs": [],
   "source": []
  },
  {
   "cell_type": "code",
   "execution_count": null,
   "metadata": {},
   "outputs": [],
   "source": []
  },
  {
   "cell_type": "code",
   "execution_count": null,
   "metadata": {},
   "outputs": [],
   "source": []
  },
  {
   "cell_type": "code",
   "execution_count": null,
   "metadata": {},
   "outputs": [],
   "source": []
  },
  {
   "cell_type": "code",
   "execution_count": null,
   "metadata": {},
   "outputs": [],
   "source": []
  },
  {
   "cell_type": "code",
   "execution_count": 11,
   "metadata": {},
   "outputs": [
    {
     "name": "stdout",
     "output_type": "stream",
     "text": [
      "rasa==3.4.5\n",
      "rasa-sdk==3.4.1\n"
     ]
    }
   ],
   "source": [
    "!pip freeze | grep rasa"
   ]
  },
  {
   "cell_type": "code",
   "execution_count": 1,
   "metadata": {},
   "outputs": [],
   "source": [
    "# view rasa shell nlu response from webhook\n",
    "# https://rasa.com/docs/rasa/user-guide/connectors/your-own-website/#viewing-the-nlu-response-from-the-webhook"
   ]
  },
  {
   "cell_type": "code",
   "execution_count": 56,
   "metadata": {},
   "outputs": [],
   "source": [
    "import json\n",
    "import requests\n",
    "host_url = \"http://localhost:5005/model/parse\"   #to determine the host port, refer to endpoint.yml\n",
    "\n",
    "def nlu_respond(phrase: str) -> dict:\n",
    "    nlu_data = json.dumps({'text': f\"{phrase}\"})\n",
    "    nlu_resp = requests.post(host_url, data=nlu_data).json()\n",
    "    return nlu_resp"
   ]
  },
  {
   "cell_type": "code",
   "execution_count": 65,
   "metadata": {},
   "outputs": [],
   "source": [
    "a = nlu_respond('Looking for rent in Hamilton')"
   ]
  },
  {
   "cell_type": "code",
   "execution_count": 66,
   "metadata": {},
   "outputs": [
    {
     "data": {
      "text/plain": [
       "'search_properties'"
      ]
     },
     "execution_count": 66,
     "metadata": {},
     "output_type": "execute_result"
    }
   ],
   "source": [
    "a['intent']['name']"
   ]
  },
  {
   "cell_type": "code",
   "execution_count": 67,
   "metadata": {},
   "outputs": [
    {
     "data": {
      "text/plain": [
       "[{'name': 'search_properties', 'confidence': 0.9934936165809631},\n",
       " {'name': 'pet_policy', 'confidence': 0.0036180184688419104},\n",
       " {'name': 'availability_pricing', 'confidence': 0.0008678802405484021},\n",
       " {'name': 'schedule_tour', 'confidence': 0.0006077878060750663},\n",
       " {'name': 'parking_info', 'confidence': 0.000553774880245328},\n",
       " {'name': 'cancel_tour', 'confidence': 0.00035794652649201453},\n",
       " {'name': 'lease_details', 'confidence': 0.0002945266605820507},\n",
       " {'name': 'mood_great', 'confidence': 9.595049050403759e-05},\n",
       " {'name': 'mood_unhappy', 'confidence': 2.7522384698386304e-05},\n",
       " {'name': 'out_of_scope', 'confidence': 2.2880223696120083e-05}]"
      ]
     },
     "execution_count": 67,
     "metadata": {},
     "output_type": "execute_result"
    }
   ],
   "source": [
    "a['intent_ranking']"
   ]
  },
  {
   "cell_type": "code",
   "execution_count": 68,
   "metadata": {},
   "outputs": [
    {
     "data": {
      "text/plain": [
       "{'text': 'Looking for rent in Hamilton',\n",
       " 'intent': {'name': 'search_properties', 'confidence': 0.9934936165809631},\n",
       " 'entities': [{'entity': 'location',\n",
       "   'start': 20,\n",
       "   'end': 28,\n",
       "   'confidence_entity': 0.556535005569458,\n",
       "   'value': 'Hamilton',\n",
       "   'extractor': 'DIETClassifier'}],\n",
       " 'text_tokens': [[0, 7], [8, 11], [12, 16], [17, 19], [20, 28]],\n",
       " 'intent_ranking': [{'name': 'search_properties',\n",
       "   'confidence': 0.9934936165809631},\n",
       "  {'name': 'pet_policy', 'confidence': 0.0036180184688419104},\n",
       "  {'name': 'availability_pricing', 'confidence': 0.0008678802405484021},\n",
       "  {'name': 'schedule_tour', 'confidence': 0.0006077878060750663},\n",
       "  {'name': 'parking_info', 'confidence': 0.000553774880245328},\n",
       "  {'name': 'cancel_tour', 'confidence': 0.00035794652649201453},\n",
       "  {'name': 'lease_details', 'confidence': 0.0002945266605820507},\n",
       "  {'name': 'mood_great', 'confidence': 9.595049050403759e-05},\n",
       "  {'name': 'mood_unhappy', 'confidence': 2.7522384698386304e-05},\n",
       "  {'name': 'out_of_scope', 'confidence': 2.2880223696120083e-05}],\n",
       " 'response_selector': {'all_retrieval_intents': [],\n",
       "  'default': {'response': {'responses': None,\n",
       "    'confidence': 0.0,\n",
       "    'intent_response_key': None,\n",
       "    'utter_action': 'utter_None'},\n",
       "   'ranking': []}}}"
      ]
     },
     "execution_count": 68,
     "metadata": {},
     "output_type": "execute_result"
    }
   ],
   "source": [
    "a"
   ]
  },
  {
   "cell_type": "code",
   "execution_count": 15,
   "metadata": {},
   "outputs": [],
   "source": [
    "from tensorflow.keras.utils import plot_model\n",
    "from rasa.core.agent import Agent\n"
   ]
  },
  {
   "cell_type": "code",
   "execution_count": 16,
   "metadata": {},
   "outputs": [],
   "source": [
    "model_directory = \"models\"\n",
    "loaded_agent = Agent.load(model_directory)\n"
   ]
  },
  {
   "cell_type": "code",
   "execution_count": null,
   "metadata": {},
   "outputs": [],
   "source": []
  }
 ],
 "metadata": {
  "kernelspec": {
   "display_name": "base",
   "language": "python",
   "name": "python3"
  },
  "language_info": {
   "codemirror_mode": {
    "name": "ipython",
    "version": 3
   },
   "file_extension": ".py",
   "mimetype": "text/x-python",
   "name": "python",
   "nbconvert_exporter": "python",
   "pygments_lexer": "ipython3",
   "version": "3.9.12"
  },
  "orig_nbformat": 4
 },
 "nbformat": 4,
 "nbformat_minor": 2
}
